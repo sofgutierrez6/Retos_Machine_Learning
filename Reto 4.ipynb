{
 "cells": [
  {
   "cell_type": "markdown",
   "metadata": {},
   "source": [
    "# Reto 4\n",
    "En este Notebook se implementa el algoritmo de descenso de gradiente estocástico para el problema de regresión lineal, y se aplica para resolver el problema del reto 3, es decir, se resuelve el problema de regresión para predecir la calidad de vino con el Wine Quality Data set (https://archive.ics.uci.edu/ml/datasets/Wine+Quality) usando un modelo de regresión lineal. \n"
   ]
  },
  {
   "cell_type": "code",
   "execution_count": 1,
   "metadata": {},
   "outputs": [],
   "source": [
    "#Se importan las librerías necesarias\n",
    "import matplotlib.pyplot as plt\n",
    "import pandas as pd\n",
    "import numpy as np"
   ]
  },
  {
   "cell_type": "markdown",
   "metadata": {},
   "source": [
    "# #  Se cargan y dividen los datos en entrenamiento y prueba\n",
    "\n",
    "Se separa un conjunto de prueba de 2000 datos para evaluar los modelos. Con los datos restantes, se entrenan modelos usando conjuntos de entrenamiento con 100, 1000 y 2898 datos. De acuerdo con la siguiente convención: Xtrain y Ytrain serán los datos con los que se entrenara el modelo. Y Xtest y Ytest los datos de prueba."
   ]
  },
  {
   "cell_type": "code",
   "execution_count": 2,
   "metadata": {},
   "outputs": [],
   "source": [
    "DatosWineQ=pd.read_excel('winequality-white_1.xlsx')\n",
    "X=DatosWineQ.iloc[:,0:DatosWineQ.shape[1]-1]\n",
    "Y=DatosWineQ.iloc[:,DatosWineQ.shape[1]-1]\n",
    "\n",
    "D1=DatosWineQ.sample(n=100, random_state=1)\n",
    "Xtrain1, Ytrain1=D1.iloc[:,0:DatosWineQ.shape[1]-1],D1.iloc[:,DatosWineQ.shape[1]-1]\n",
    "Xtest1, Ytest1=X.drop(X.index[Xtrain1.index]),Y.drop(Y.index[Ytrain1.index])\n",
    "\n",
    "D2=DatosWineQ.sample(n=1000, random_state=1)\n",
    "Xtrain2, Ytrain2=D2.iloc[:,0:DatosWineQ.shape[1]-1],D2.iloc[:,DatosWineQ.shape[1]-1]\n",
    "Xtest2, Ytest2=X.drop(X.index[Xtrain2.index]),Y.drop(Y.index[Ytrain2.index])\n",
    "\n",
    "D3=DatosWineQ.sample(n=2898, random_state=1)\n",
    "Xtrain3, Ytrain3=D3.iloc[:,0:DatosWineQ.shape[1]-1],D3.iloc[:,DatosWineQ.shape[1]-1]\n",
    "Xtest3, Ytest3=X.drop(X.index[Xtrain3.index]),Y.drop(Y.index[Ytrain3.index])\n"
   ]
  },
  {
   "cell_type": "code",
   "execution_count": 3,
   "metadata": {},
   "outputs": [],
   "source": [
    "#Implementación LMS\n",
    "def LMS(Xin,Yin):\n",
    "    Wo= np.zeros(X.shape[0])\n",
    "    Wactual=w0\n",
    "    tol=1\n",
    "    #Se inicializa en un punto aleatorio\n",
    "    Xo, Yo= Xin.iloc[:,0], Yin.iloc[:,0]\n",
    "    Xactual, Yactual = Xo, Yo\n",
    "    #Paso constante \n",
    "    n= 0.001\n",
    "    while(e>tol):\n",
    "        #como se escoge?\n",
    "        i= random.randint(0, len(X)-1)\n",
    "        Xactual, Yactual= Xin.iloc[:,i], Yin.iloc[:,i]\n",
    "        g = Wactual*Xactual\n",
    "        e=g-Yactual\n",
    "        Wactual=Wactual-n*e*Xactual\n",
    "        \n",
    "    #Se calcula el siguiente punto a través del gradiente"
   ]
  }
 ],
 "metadata": {
  "kernelspec": {
   "display_name": "Python 3",
   "language": "python",
   "name": "python3"
  },
  "language_info": {
   "codemirror_mode": {
    "name": "ipython",
    "version": 3
   },
   "file_extension": ".py",
   "mimetype": "text/x-python",
   "name": "python",
   "nbconvert_exporter": "python",
   "pygments_lexer": "ipython3",
   "version": "3.7.4"
  }
 },
 "nbformat": 4,
 "nbformat_minor": 2
}
