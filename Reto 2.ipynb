{
 "cells": [
  {
   "cell_type": "markdown",
   "metadata": {},
   "source": [
    "# Reto 2\n",
    "En el este Notebook se implementa descenso de gradiente estocástico para el problema de regresión logística, y aplica el código para resolver el problema en el reto  1 revisado.\n"
   ]
  },
  {
   "cell_type": "code",
   "execution_count": 1,
   "metadata": {},
   "outputs": [],
   "source": [
    "#Se importan las librerías necesarias\n",
    "import matplotlib.pyplot as plt\n",
    "import pandas as pd\n",
    "import numpy as np\n"
   ]
  },
  {
   "cell_type": "markdown",
   "metadata": {},
   "source": [
    "# Se cargan y dividen los datos en entrenamiento y prueba\n",
    "Se separa un conjunto de prueba de 2000 datos para evaluar los modelos. Con los datos restantes, se entrenan modelos usando conjuntos de entrenamiento con 100, 1000 y 2898 datos. De acuerdo con la siguiente convención: Xtrain y Ytrain serán los datos con los que se entrenara el modelo. Y Xtest y Ytest los datos de prueba.\n"
   ]
  },
  {
   "cell_type": "code",
   "execution_count": 2,
   "metadata": {},
   "outputs": [],
   "source": [
    "DatosHTRU2=pd.read_csv('HTRU_2.csv')\n",
    "X=DatosHTRU2.iloc[:,0:DatosHTRU2.shape[1]-1]\n",
    "Y=DatosHTRU2.iloc[:,DatosHTRU2.shape[1]-1]\n",
    "\n",
    "D1=DatosHTRU2.sample(n=100, random_state=1)\n",
    "Xtrain1, Ytrain1=D1.iloc[:,0:DatosHTRU2.shape[1]-1],D1.iloc[:,DatosHTRU2.shape[1]-1]\n",
    "\n",
    "D2=DatosHTRU2.sample(n=500, random_state=1)\n",
    "Xtrain2, Ytrain2=D2.iloc[:,0:DatosHTRU2.shape[1]-1],D2.iloc[:,DatosHTRU2.shape[1]-1]\n",
    "\n",
    "D3=DatosHTRU2.sample(n=1000, random_state=1)\n",
    "Xtrain3, Ytrain3=D2.iloc[:,0:DatosHTRU2.shape[1]-1],D3.iloc[:,DatosHTRU2.shape[1]-1]\n",
    "\n",
    "D4=DatosHTRU2.sample(n=5000, random_state=1)\n",
    "Xtrain4, Ytrain4=D4.iloc[:,0:DatosHTRU2.shape[1]-1],D4.iloc[:,DatosHTRU2.shape[1]-1]"
   ]
  },
  {
   "cell_type": "code",
   "execution_count": null,
   "metadata": {},
   "outputs": [],
   "source": [
    "#Implementación LMS\n",
    "def LMS(Xin,Yin):\n",
    "    Wo= np.zeros(X.shape[0])\n",
    "    Wactual=w0\n",
    "    tol=1\n",
    "    #Se inicializa en un punto aleatorio\n",
    "    Xo, Yo= Xin.iloc[:,0], Yin.iloc[:,0]\n",
    "    Xactual, Yactual = Xo, Yo\n",
    "    #Paso constante \n",
    "    n=\n",
    "    while(e>tol):\n",
    "        #como se escoge?\n",
    "        Xactual, Yactual=\n",
    "        g = Wactual*Xactual\n",
    "        e=g-Yactual\n",
    "        Wactual=Wactual-n*e*Xactual\n",
    "        \n",
    "    #Se calcula el siguiente punto a través del gradiente"
   ]
  }
 ],
 "metadata": {
  "kernelspec": {
   "display_name": "Python 3",
   "language": "python",
   "name": "python3"
  },
  "language_info": {
   "codemirror_mode": {
    "name": "ipython",
    "version": 3
   },
   "file_extension": ".py",
   "mimetype": "text/x-python",
   "name": "python",
   "nbconvert_exporter": "python",
   "pygments_lexer": "ipython3",
   "version": "3.7.4"
  }
 },
 "nbformat": 4,
 "nbformat_minor": 2
}
